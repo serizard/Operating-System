{
 "cells": [
  {
   "cell_type": "code",
   "execution_count": 5,
   "metadata": {},
   "outputs": [],
   "source": [
    "import pandas as pd\n",
    "import numpy as np  "
   ]
  },
  {
   "cell_type": "code",
   "execution_count": 6,
   "metadata": {},
   "outputs": [],
   "source": [
    "for i in range(1,6):\n",
    "    with open(f'inputs_{i}.txt', 'w') as f:\n",
    "        n = int(np.random.randint(3, 8, 1))\n",
    "        f.write(str(n)+'\\n')\n",
    "        at, bt = map(int, [np.random.choice(range(3), 1), np.random.randint(1,10)])\n",
    "        for idx in range(1, n+1):\n",
    "            f.write(f'{idx} {at} {bt}\\n')\n",
    "            at, bt = at+np.random.randint(1,3), np.random.randint(1,10)\n",
    "        f.close()"
   ]
  }
 ],
 "metadata": {
  "kernelspec": {
   "display_name": "base",
   "language": "python",
   "name": "python3"
  },
  "language_info": {
   "codemirror_mode": {
    "name": "ipython",
    "version": 3
   },
   "file_extension": ".py",
   "mimetype": "text/x-python",
   "name": "python",
   "nbconvert_exporter": "python",
   "pygments_lexer": "ipython3",
   "version": "3.9.7"
  }
 },
 "nbformat": 4,
 "nbformat_minor": 2
}
